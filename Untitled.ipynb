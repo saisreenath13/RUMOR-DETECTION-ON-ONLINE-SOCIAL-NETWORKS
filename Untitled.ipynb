{
 "cells": [
  {
   "cell_type": "code",
   "execution_count": 1,
   "id": "d47cf563-7eab-49db-bb6c-53bd7a44304d",
   "metadata": {},
   "outputs": [
    {
     "name": "stdout",
     "output_type": "stream",
     "text": [
      "Checking path: pheme-rnr-dataset\\charliehebdo\\rumours\n",
      "Checking path: pheme-rnr-dataset\\charliehebdo\\non-rumours\n",
      "Checking path: pheme-rnr-dataset\\ferguson\\rumours\n",
      "Checking path: pheme-rnr-dataset\\ferguson\\non-rumours\n",
      "Checking path: pheme-rnr-dataset\\germanwings-crash\\rumours\n",
      "Checking path: pheme-rnr-dataset\\germanwings-crash\\non-rumours\n",
      "Checking path: pheme-rnr-dataset\\ottawashooting\\rumours\n",
      "Checking path: pheme-rnr-dataset\\ottawashooting\\non-rumours\n",
      "Checking path: pheme-rnr-dataset\\sydneysiege\\rumours\n",
      "Checking path: pheme-rnr-dataset\\sydneysiege\\non-rumours\n",
      "                                                text  retweet_count  \\\n",
      "0  Breaking: At least 10 dead, 5 injured after tO...            159   \n",
      "1  @H_E_Samuel @George_Berridge @michael_taggart ...              1   \n",
      "2  @H_E_Samuel Hi Henry would you be willing to g...              0   \n",
      "3  @H_E_Samuel @H_E_Samuel please call them terro...              0   \n",
      "4  @H_E_Samuel French govt needs to take strict a...              0   \n",
      "\n",
      "   favorite_count hashtags                                        mentions  \\\n",
      "0              14       []                                              []   \n",
      "1               0       []  [H_E_Samuel, George_Berridge, michael_taggart]   \n",
      "2               0       []                                    [H_E_Samuel]   \n",
      "3               1       []                        [H_E_Samuel, H_E_Samuel]   \n",
      "4               0       []                                    [H_E_Samuel]   \n",
      "\n",
      "   label  \n",
      "0      1  \n",
      "1      1  \n",
      "2      1  \n",
      "3      1  \n",
      "4      1  \n"
     ]
    }
   ],
   "source": [
    "import os\n",
    "import json\n",
    "import pandas as pd\n",
    "\n",
    "\n",
    "\"\"\"\n",
    " RUMOR DETECTION ON ONLINE SOCIAL NETWORKS - MINI PROJECT MTEC's (CSM)\n",
    "\n",
    "Developed by:\n",
    "Batch 02, \n",
    "- T. Sai Sreenath (21861A6647)\n",
    "- D. Divya  (21861A6614)\n",
    "- K. Sahithi (21861A6628)\n",
    "- M. Akshitha(21861A6634)\n",
    "- K. Shiva Charan (21861A6627)\n",
    "\n",
    "\"\"\"\n",
    "\n",
    "# Function to extract data from a single JSON file\n",
    "def extract_data_from_json(json_file):\n",
    "    with open(json_file, 'r') as f:\n",
    "        data = json.load(f)\n",
    "        text = data.get('text', '')\n",
    "        retweet_count = data.get('retweet_count', 0)\n",
    "        favorite_count = data.get('favorite_count', 0)\n",
    "        hashtags = [hashtag['text'] for hashtag in data.get('entities', {}).get('hashtags', [])]\n",
    "        mentions = [mention['screen_name'] for mention in data.get('entities', {}).get('user_mentions', [])]\n",
    "        return text, retweet_count, favorite_count, hashtags, mentions\n",
    "\n",
    "# Function to iterate through nested folders and collect data\n",
    "def load_dataset(directory):\n",
    "    texts, retweet_counts, favorite_counts, hashtags_list, mentions_list, labels = [], [], [], [], [], []\n",
    "    \n",
    "    # Iterate over the 5 event folders\n",
    "    for event_folder in os.listdir(directory):\n",
    "        event_folder_path = os.path.join(directory, event_folder)\n",
    "        \n",
    "        # Inside each event folder, look for 'rumours' and 'non-rumours' folders\n",
    "        for rumor_type in ['rumours', 'non-rumours']:\n",
    "            rumor_type_path = os.path.join(event_folder_path, rumor_type)\n",
    "            \n",
    "            # Debugging: Print the path being checked\n",
    "            print(f\"Checking path: {rumor_type_path}\")\n",
    "            \n",
    "            if not os.path.exists(rumor_type_path):\n",
    "                print(f\"Path does not exist: {rumor_type_path}\")\n",
    "                continue  # Skip to the next folder if path does not exist\n",
    "\n",
    "            label = 1 if rumor_type == 'rumours' else 0  # 1 for rumours, 0 for non-rumours\n",
    "            \n",
    "            # Iterate through each subfolder (folder1, folder2, etc.) inside the rumours/non-rumours folders\n",
    "            for subfolder in os.listdir(rumor_type_path):\n",
    "                subfolder_path = os.path.join(rumor_type_path, subfolder)\n",
    "                \n",
    "                source_tweet_path = os.path.join(subfolder_path, 'source-tweet')\n",
    "                reactions_path = os.path.join(subfolder_path, 'reactions')\n",
    "                \n",
    "                # Process source-tweet folder\n",
    "                if os.path.exists(source_tweet_path):\n",
    "                    for json_file in os.listdir(source_tweet_path):\n",
    "                        json_file_path = os.path.join(source_tweet_path, json_file)\n",
    "                        text, retweet_count, favorite_count, hashtags, mentions = extract_data_from_json(json_file_path)\n",
    "                        texts.append(text)\n",
    "                        retweet_counts.append(retweet_count)\n",
    "                        favorite_counts.append(favorite_count)\n",
    "                        hashtags_list.append(hashtags)\n",
    "                        mentions_list.append(mentions)\n",
    "                        labels.append(label)\n",
    "                \n",
    "                # Process reactions folder\n",
    "                if os.path.exists(reactions_path):\n",
    "                    for json_file in os.listdir(reactions_path):\n",
    "                        json_file_path = os.path.join(reactions_path, json_file)\n",
    "                        text, retweet_count, favorite_count, hashtags, mentions = extract_data_from_json(json_file_path)\n",
    "                        texts.append(text)\n",
    "                        retweet_counts.append(retweet_count)\n",
    "                        favorite_counts.append(favorite_count)\n",
    "                        hashtags_list.append(hashtags)\n",
    "                        mentions_list.append(mentions)\n",
    "                        labels.append(label)\n",
    "\n",
    "    # Return the collected data in a pandas DataFrame\n",
    "    return pd.DataFrame({\n",
    "        'text': texts,\n",
    "        'retweet_count': retweet_counts,\n",
    "        'favorite_count': favorite_counts,\n",
    "        'hashtags': hashtags_list,\n",
    "        'mentions': mentions_list,\n",
    "        'label': labels\n",
    "    })\n",
    "\n",
    "# Path to the main dataset directory containing the 5 folders\n",
    "data_directory = 'pheme-rnr-dataset'  # Replace with your actual dataset path\n",
    "\n",
    "# Load the dataset\n",
    "df = load_dataset(data_directory)\n",
    "\n",
    "# Check the extracted data\n",
    "print(df.head())\n"
   ]
  },
  {
   "cell_type": "code",
   "execution_count": null,
   "id": "38074dfe",
   "metadata": {},
   "outputs": [],
   "source": []
  },
  {
   "cell_type": "code",
   "execution_count": 2,
   "id": "c1768b3c-dc47-408e-bc30-b1f68ff1b901",
   "metadata": {},
   "outputs": [
    {
     "data": {
      "text/html": [
       "<div>\n",
       "<style scoped>\n",
       "    .dataframe tbody tr th:only-of-type {\n",
       "        vertical-align: middle;\n",
       "    }\n",
       "\n",
       "    .dataframe tbody tr th {\n",
       "        vertical-align: top;\n",
       "    }\n",
       "\n",
       "    .dataframe thead th {\n",
       "        text-align: right;\n",
       "    }\n",
       "</style>\n",
       "<table border=\"1\" class=\"dataframe\">\n",
       "  <thead>\n",
       "    <tr style=\"text-align: right;\">\n",
       "      <th></th>\n",
       "      <th>text</th>\n",
       "      <th>retweet_count</th>\n",
       "      <th>favorite_count</th>\n",
       "      <th>hashtags</th>\n",
       "      <th>mentions</th>\n",
       "      <th>label</th>\n",
       "    </tr>\n",
       "  </thead>\n",
       "  <tbody>\n",
       "    <tr>\n",
       "      <th>0</th>\n",
       "      <td>Breaking: At least 10 dead, 5 injured after tO...</td>\n",
       "      <td>159</td>\n",
       "      <td>14</td>\n",
       "      <td>[]</td>\n",
       "      <td>[]</td>\n",
       "      <td>1</td>\n",
       "    </tr>\n",
       "    <tr>\n",
       "      <th>1</th>\n",
       "      <td>@H_E_Samuel @George_Berridge @michael_taggart ...</td>\n",
       "      <td>1</td>\n",
       "      <td>0</td>\n",
       "      <td>[]</td>\n",
       "      <td>[H_E_Samuel, George_Berridge, michael_taggart]</td>\n",
       "      <td>1</td>\n",
       "    </tr>\n",
       "    <tr>\n",
       "      <th>2</th>\n",
       "      <td>@H_E_Samuel Hi Henry would you be willing to g...</td>\n",
       "      <td>0</td>\n",
       "      <td>0</td>\n",
       "      <td>[]</td>\n",
       "      <td>[H_E_Samuel]</td>\n",
       "      <td>1</td>\n",
       "    </tr>\n",
       "    <tr>\n",
       "      <th>3</th>\n",
       "      <td>@H_E_Samuel @H_E_Samuel please call them terro...</td>\n",
       "      <td>0</td>\n",
       "      <td>1</td>\n",
       "      <td>[]</td>\n",
       "      <td>[H_E_Samuel, H_E_Samuel]</td>\n",
       "      <td>1</td>\n",
       "    </tr>\n",
       "    <tr>\n",
       "      <th>4</th>\n",
       "      <td>@H_E_Samuel French govt needs to take strict a...</td>\n",
       "      <td>0</td>\n",
       "      <td>0</td>\n",
       "      <td>[]</td>\n",
       "      <td>[H_E_Samuel]</td>\n",
       "      <td>1</td>\n",
       "    </tr>\n",
       "    <tr>\n",
       "      <th>...</th>\n",
       "      <td>...</td>\n",
       "      <td>...</td>\n",
       "      <td>...</td>\n",
       "      <td>...</td>\n",
       "      <td>...</td>\n",
       "      <td>...</td>\n",
       "    </tr>\n",
       "    <tr>\n",
       "      <th>103207</th>\n",
       "      <td>@heyradar @MarkMcCleskey @JohnMartin929 crap, ...</td>\n",
       "      <td>0</td>\n",
       "      <td>0</td>\n",
       "      <td>[]</td>\n",
       "      <td>[heyradar, MarkMcCleskey, JohnMartin929]</td>\n",
       "      <td>0</td>\n",
       "    </tr>\n",
       "    <tr>\n",
       "      <th>103208</th>\n",
       "      <td>@piiizzzzaaaa @heyradar hahahaha</td>\n",
       "      <td>0</td>\n",
       "      <td>0</td>\n",
       "      <td>[]</td>\n",
       "      <td>[piiizzzzaaaa, heyradar]</td>\n",
       "      <td>0</td>\n",
       "    </tr>\n",
       "    <tr>\n",
       "      <th>103209</th>\n",
       "      <td>@Jon_Roser @heyradar @JohnMartin929 It's @chra...</td>\n",
       "      <td>0</td>\n",
       "      <td>0</td>\n",
       "      <td>[]</td>\n",
       "      <td>[Jon_Roser, heyradar, JohnMartin929, chrabe]</td>\n",
       "      <td>0</td>\n",
       "    </tr>\n",
       "    <tr>\n",
       "      <th>103210</th>\n",
       "      <td>@JohnMartin929 @MarkMcCleskey @PzFeed had to b...</td>\n",
       "      <td>0</td>\n",
       "      <td>0</td>\n",
       "      <td>[]</td>\n",
       "      <td>[JohnMartin929, MarkMcCleskey, PzFeed]</td>\n",
       "      <td>0</td>\n",
       "    </tr>\n",
       "    <tr>\n",
       "      <th>103211</th>\n",
       "      <td>@MarkMcCleskey @Jon_Roser @heyradar @JohnMarti...</td>\n",
       "      <td>0</td>\n",
       "      <td>0</td>\n",
       "      <td>[]</td>\n",
       "      <td>[MarkMcCleskey, Jon_Roser, heyradar, JohnMarti...</td>\n",
       "      <td>0</td>\n",
       "    </tr>\n",
       "  </tbody>\n",
       "</table>\n",
       "<p>103212 rows × 6 columns</p>\n",
       "</div>"
      ],
      "text/plain": [
       "                                                     text  retweet_count  \\\n",
       "0       Breaking: At least 10 dead, 5 injured after tO...            159   \n",
       "1       @H_E_Samuel @George_Berridge @michael_taggart ...              1   \n",
       "2       @H_E_Samuel Hi Henry would you be willing to g...              0   \n",
       "3       @H_E_Samuel @H_E_Samuel please call them terro...              0   \n",
       "4       @H_E_Samuel French govt needs to take strict a...              0   \n",
       "...                                                   ...            ...   \n",
       "103207  @heyradar @MarkMcCleskey @JohnMartin929 crap, ...              0   \n",
       "103208                   @piiizzzzaaaa @heyradar hahahaha              0   \n",
       "103209  @Jon_Roser @heyradar @JohnMartin929 It's @chra...              0   \n",
       "103210  @JohnMartin929 @MarkMcCleskey @PzFeed had to b...              0   \n",
       "103211  @MarkMcCleskey @Jon_Roser @heyradar @JohnMarti...              0   \n",
       "\n",
       "        favorite_count hashtags  \\\n",
       "0                   14       []   \n",
       "1                    0       []   \n",
       "2                    0       []   \n",
       "3                    1       []   \n",
       "4                    0       []   \n",
       "...                ...      ...   \n",
       "103207               0       []   \n",
       "103208               0       []   \n",
       "103209               0       []   \n",
       "103210               0       []   \n",
       "103211               0       []   \n",
       "\n",
       "                                                 mentions  label  \n",
       "0                                                      []      1  \n",
       "1          [H_E_Samuel, George_Berridge, michael_taggart]      1  \n",
       "2                                            [H_E_Samuel]      1  \n",
       "3                                [H_E_Samuel, H_E_Samuel]      1  \n",
       "4                                            [H_E_Samuel]      1  \n",
       "...                                                   ...    ...  \n",
       "103207           [heyradar, MarkMcCleskey, JohnMartin929]      0  \n",
       "103208                           [piiizzzzaaaa, heyradar]      0  \n",
       "103209       [Jon_Roser, heyradar, JohnMartin929, chrabe]      0  \n",
       "103210             [JohnMartin929, MarkMcCleskey, PzFeed]      0  \n",
       "103211  [MarkMcCleskey, Jon_Roser, heyradar, JohnMarti...      0  \n",
       "\n",
       "[103212 rows x 6 columns]"
      ]
     },
     "execution_count": 2,
     "metadata": {},
     "output_type": "execute_result"
    }
   ],
   "source": [
    "df"
   ]
  },
  {
   "cell_type": "code",
   "execution_count": 3,
   "id": "ab4ce71c-c555-48d7-874d-5a573c106072",
   "metadata": {},
   "outputs": [],
   "source": [
    "# Save the DataFrame as a CSV file\n",
    "df.to_csv('rumor_dataset.csv', index=False)  # index=False avoids saving row numbers\n"
   ]
  },
  {
   "cell_type": "code",
   "execution_count": 4,
   "id": "42571049-3e29-4fe8-a90d-15443f3ebdad",
   "metadata": {},
   "outputs": [
    {
     "name": "stdout",
     "output_type": "stream",
     "text": [
      "Index(['text', 'retweet_count', 'favorite_count', 'hashtags', 'mentions',\n",
      "       'label'],\n",
      "      dtype='object')\n"
     ]
    }
   ],
   "source": [
    "print(df.columns)\n"
   ]
  },
  {
   "cell_type": "code",
   "execution_count": 5,
   "id": "a6d4c0db-700d-4701-886a-59c69f79031c",
   "metadata": {},
   "outputs": [],
   "source": [
    "import os\n",
    "import pandas as pd\n",
    "df=pd.read_csv('rumor_dataset.csv')"
   ]
  },
  {
   "cell_type": "code",
   "execution_count": null,
   "id": "d630c7f7-320c-4989-8d1f-477e5a5e1beb",
   "metadata": {},
   "outputs": [],
   "source": [
    "import numpy as np\n",
    "from sklearn.feature_extraction.text import TfidfVectorizer\n",
    "from sklearn.model_selection import train_test_split\n",
    "\n",
    "# Vectorize the text data using TF-IDF\n",
    "tfidf = TfidfVectorizer(max_features=5000)\n",
    "X_text = tfidf.fit_transform(df['text'])  # Text data\n",
    "    \n",
    "# Extract numerical features\n",
    "X_numerical = df[['text','retweet_count', 'favorite_count', 'hashtags', 'mentions']].values  # Numerical data\n",
    "\n",
    "# Combine text and numerical features\n",
    "X_combined = np.hstack((X_text.toarray(), X_numerical))  # Combine into one feature set\n",
    "\n",
    "# Define the target variable (labels)\n",
    "y = df['label'].values  # Labels\n",
    "\n",
    "# Train-test split\n",
    "X_train, X_test, y_train, y_test = train_test_split(X_combined, y, test_size=0.2, random_state=42)\n"
   ]
  },
  {
   "cell_type": "code",
   "execution_count": null,
   "id": "0b7cb89b-b035-46e7-b560-c94787ef3af6",
   "metadata": {},
   "outputs": [],
   "source": [
    "print(f\"Shape of X: {X_numerical.shape}\")\n",
    "print(f\"Shape of y: {y.shape}\")\n"
   ]
  },
  {
   "cell_type": "code",
   "execution_count": null,
   "id": "cdb87a39-0d81-41fc-9e0e-e5217df311bb",
   "metadata": {},
   "outputs": [],
   "source": [
    "# Apply pd.get_dummies with sparse=True to save memory\n",
    "X_numerical_dummies = pd.get_dummies(X_numerical, sparse=True)\n"
   ]
  },
  {
   "cell_type": "code",
   "execution_count": null,
   "id": "5751d2c9-5ceb-4e17-b6d3-9ca33e3ab3ce",
   "metadata": {},
   "outputs": [],
   "source": [
    "from sklearn.feature_extraction import FeatureHasher\n",
    "\n",
    "# Define the number of output features (you can tune this to reduce memory usage)\n",
    "hasher = FeatureHasher(n_features=1024, input_type='string')\n",
    "\n",
    "# Apply hashing trick on categorical columns\n",
    "X_hashed = hasher.transform(X_numerical.astype(str).values)\n"
   ]
  },
  {
   "cell_type": "code",
   "execution_count": null,
   "id": "42b824ee-0917-4b9f-9d42-510eb8e027e0",
   "metadata": {},
   "outputs": [],
   "source": [
    "from sklearn.preprocessing import LabelEncoder\n",
    "\n",
    "label_encoder = LabelEncoder()\n",
    "\n",
    "# Apply LabelEncoder to each categorical column\n",
    "for col in X_numerical.columns:\n",
    "    X_numerical[col] = label_encoder.fit_transform(X_numerical[col])\n"
   ]
  },
  {
   "cell_type": "code",
   "execution_count": null,
   "id": "8e8e76b7-3d95-4a6b-abf7-751f2667c1fb",
   "metadata": {},
   "outputs": [],
   "source": [
    "# Use chunksize when reading data\n",
    "for chunk in pd.read_csv('rumor_dataset.csv', chunksize=10000):\n",
    "    # Process each chunk\n",
    "    X_numerical_dummies = pd.get_dummies(chunk, sparse=True)\n",
    "    # Train or append your model here\n"
   ]
  },
  {
   "cell_type": "code",
   "execution_count": null,
   "id": "45ee9497-906c-48fd-81c4-c4051a9ef077",
   "metadata": {},
   "outputs": [
    {
     "name": "stderr",
     "output_type": "stream",
     "text": [
      "C:\\Users\\dilee\\anaconda3\\Lib\\site-packages\\sklearn\\utils\\validation.py:869: UserWarning: pandas.DataFrame with sparse columns found.It will be converted to a dense numpy array.\n",
      "  warnings.warn(\n",
      "C:\\Users\\dilee\\anaconda3\\Lib\\site-packages\\sklearn\\utils\\validation.py:1059: FutureWarning: Allowing arbitrary scalar fill_value in SparseDtype is deprecated. In a future version, the fill_value must be a valid value for the SparseDtype.subtype.\n",
      "  if np.may_share_memory(array, array_orig):\n"
     ]
    }
   ],
   "source": [
    "from sklearn.decomposition import PCA\n",
    "\n",
    "# Use PCA to reduce dimensionality\n",
    "pca = PCA(n_components=100)  # Choose a suitable number of components\n",
    "X_reduced = pca.fit_transform(X_numerical_dummies)\n"
   ]
  },
  {
   "cell_type": "code",
   "execution_count": null,
   "id": "97c00827-f485-4e30-ae77-2ea708b9a553",
   "metadata": {},
   "outputs": [
    {
     "name": "stdout",
     "output_type": "stream",
     "text": [
      "            0    1   2     3      4\n",
      "0       87104  158  14  6229  35502\n",
      "1       21954    1   0  6229   7792\n",
      "2       21959    0   0  6229   7795\n",
      "3       21955    0   1  6229   7793\n",
      "4       21958    0   0  6229   7795\n",
      "...       ...  ...  ..   ...    ...\n",
      "103207  64986    0   0  6229  25992\n",
      "103208  76405    0   0  6229  31157\n",
      "103209  25932    0   0  6229   9540\n",
      "103210  25846    0   0  6229   9493\n",
      "103211  30570    0   0  6229  11625\n",
      "\n",
      "[103212 rows x 5 columns]\n"
     ]
    }
   ],
   "source": [
    "import pandas as pd\n",
    "\n",
    "# Check if X_numerical is already a DataFrame\n",
    "if not isinstance(X_numerical, pd.DataFrame):\n",
    "    X_numerical = pd.DataFrame(X_numerical)\n",
    "\n",
    "# Apply pd.get_dummies() to the entire DataFrame\n",
    "X_numerical_dummies = pd.get_dummies(X_numerical)\n",
    "print(X_numerical)"
   ]
  },
  {
   "cell_type": "code",
   "execution_count": null,
   "id": "885f398b-3c9a-4b0b-a9f2-eeb21fba2893",
   "metadata": {},
   "outputs": [],
   "source": []
  },
  {
   "cell_type": "code",
   "execution_count": null,
   "id": "1dd86fb3-0d8e-440a-a632-f0e9cbe8cf97",
   "metadata": {},
   "outputs": [],
   "source": [
    "from scipy.sparse import hstack\n",
    "\n",
    "# Assuming X_text is a sparse matrix from TfidfVectorizer and X_numerical is a dense numpy array\n",
    "X_combined = hstack([X_text, X_numerical])\n"
   ]
  },
  {
   "cell_type": "code",
   "execution_count": null,
   "id": "6e57b362-d71a-4514-9917-a7cc1207c9e6",
   "metadata": {},
   "outputs": [],
   "source": [
    "# Reduce the max number of features in TF-IDF vectorization\n",
    "tfidf = TfidfVectorizer(max_features=1000)  # Try reducing to 1000 or even less\n",
    "X_text = tfidf.fit_transform(df['text'].fillna(''))  # Vectorize the text\n",
    "\n",
    "# Combine text and numerical features\n",
    "X_combined = np.hstack((X_text.toarray(), X_numerical))\n"
   ]
  },
  {
   "cell_type": "code",
   "execution_count": null,
   "id": "2cfb50dc-449d-48da-a178-6dada30af646",
   "metadata": {},
   "outputs": [],
   "source": [
    "from sklearn.preprocessing import StandardScaler\n",
    "from scipy.sparse import hstack\n",
    "\n",
    "# Initialize the scaler with `with_mean=False`\n",
    "scaler = StandardScaler(with_mean=False)\n",
    "\n",
    "# Fit and transform the training data\n",
    "X_train_scaled = scaler.fit_transform(X_train)\n",
    "\n",
    "# Only transform the test data (do not fit to avoid data leakage)\n",
    "X_test_scaled = scaler.transform(X_test)\n",
    "\n",
    "# Train the logistic regression model\n",
    "model = LogisticRegression(max_iter=1000)\n",
    "model.fit(X_train_scaled, y_train)\n",
    "\n",
    "# Predict on the test set\n",
    "y_pred = model.predict(X_test_scaled)\n"
   ]
  },
  {
   "cell_type": "code",
   "execution_count": null,
   "id": "9af1bd0d-eb13-4030-a3f1-2cd25b2ec388",
   "metadata": {},
   "outputs": [
    {
     "name": "stdout",
     "output_type": "stream",
     "text": [
      "Epoch 1/5\n",
      "\u001b[1m1291/1291\u001b[0m \u001b[32m━━━━━━━━━━━━━━━━━━━━\u001b[0m\u001b[37m\u001b[0m \u001b[1m228s\u001b[0m 175ms/step - accuracy: 0.7610 - loss: 0.5048 - val_accuracy: 0.8352 - val_loss: 0.3610\n",
      "Epoch 2/5\n",
      "\u001b[1m1291/1291\u001b[0m \u001b[32m━━━━━━━━━━━━━━━━━━━━\u001b[0m\u001b[37m\u001b[0m \u001b[1m239s\u001b[0m 185ms/step - accuracy: 0.8445 - loss: 0.3414 - val_accuracy: 0.8369 - val_loss: 0.3482\n",
      "Epoch 3/5\n",
      "\u001b[1m1291/1291\u001b[0m \u001b[32m━━━━━━━━━━━━━━━━━━━━\u001b[0m\u001b[37m\u001b[0m \u001b[1m228s\u001b[0m 176ms/step - accuracy: 0.8546 - loss: 0.3120 - val_accuracy: 0.8402 - val_loss: 0.3454\n",
      "Epoch 4/5\n",
      "\u001b[1m1291/1291\u001b[0m \u001b[32m━━━━━━━━━━━━━━━━━━━━\u001b[0m\u001b[37m\u001b[0m \u001b[1m223s\u001b[0m 173ms/step - accuracy: 0.8640 - loss: 0.2897 - val_accuracy: 0.8414 - val_loss: 0.3566\n",
      "Epoch 5/5\n",
      "\u001b[1m1291/1291\u001b[0m \u001b[32m━━━━━━━━━━━━━━━━━━━━\u001b[0m\u001b[37m\u001b[0m \u001b[1m229s\u001b[0m 178ms/step - accuracy: 0.8728 - loss: 0.2744 - val_accuracy: 0.8397 - val_loss: 0.3578\n",
      "\u001b[1m323/323\u001b[0m \u001b[32m━━━━━━━━━━━━━━━━━━━━\u001b[0m\u001b[37m\u001b[0m \u001b[1m16s\u001b[0m 51ms/step - accuracy: 0.8417 - loss: 0.3487\n",
      "Test Accuracy: 0.8397035598754883\n"
     ]
    }
   ],
   "source": [
    "import tensorflow as tf\n",
    "from tensorflow.keras.models import Sequential\n",
    "from tensorflow.keras.layers import LSTM, Dense, Embedding, SpatialDropout1D\n",
    "from sklearn.model_selection import train_test_split\n",
    "from tensorflow.keras.preprocessing.text import Tokenizer\n",
    "from tensorflow.keras.preprocessing.sequence import pad_sequences\n",
    "\n",
    "# Tokenize the text data\n",
    "tokenizer = Tokenizer(num_words=5000)\n",
    "tokenizer.fit_on_texts(df['text'].values)\n",
    "\n",
    "X = tokenizer.texts_to_sequences(df['text'].values)\n",
    "X = pad_sequences(X, maxlen=200)  # Padding sequences to make them the same length\n",
    "\n",
    "y = df['label'].values  # Labels\n",
    "\n",
    "# Train-test split\n",
    "X_train, X_test, y_train, y_test = train_test_split(X, y, test_size=0.2, random_state=42)\n",
    "\n",
    "# Build the LSTM model\n",
    "model = Sequential()\n",
    "model.add(Embedding(input_dim=5000, output_dim=128))  # Removed input_length\n",
    "model.add(SpatialDropout1D(0.2))\n",
    "model.add(LSTM(100, dropout=0.2, recurrent_dropout=0.2))\n",
    "model.add(Dense(1, activation='sigmoid'))  # Binary classification\n",
    "\n",
    "# Compile the model\n",
    "model.compile(loss='binary_crossentropy', optimizer='adam', metrics=['accuracy'])\n",
    "\n",
    "# Train the model\n",
    "history = model.fit(X_train, y_train, epochs=5, batch_size=64, validation_data=(X_test, y_test))\n",
    "\n",
    "# Evaluate the model\n",
    "score, acc = model.evaluate(X_test, y_test, batch_size=64)\n",
    "print(f\"Test Accuracy: {acc}\")\n"
   ]
  },
  {
   "cell_type": "code",
   "execution_count": null,
   "id": "0a3018d6-4cb4-4dbe-80bd-49fe8ffc8d03",
   "metadata": {},
   "outputs": [
    {
     "data": {
      "image/png": "[encoded data removed]",
      "text/plain": [
       "<Figure size 800x600 with 2 Axes>"
      ]
     },
     "metadata": {},
     "output_type": "display_data"
    }
   ],
   "source": [
    "from sklearn.metrics import confusion_matrix\n",
    "import seaborn as sns\n",
    "import matplotlib.pyplot as plt\n",
    "\n",
    "cm = confusion_matrix(y_test, y_pred)\n",
    "\n",
    "# Plot the confusion matrix\n",
    "plt.figure(figsize=(8,6))\n",
    "sns.heatmap(cm, annot=True, fmt=\"d\", cmap=\"Blues\", xticklabels=['Non-Rumor', 'Rumor'], yticklabels=['Non-Rumor', 'Rumor'])\n",
    "plt.xlabel('Predicted')\n",
    "plt.ylabel('Actual')\n",
    "plt.title('Confusion Matrix')\n",
    "plt.show()\n"
   ]
  },
  {
   "cell_type": "code",
   "execution_count": null,
   "id": "a4381521-ec5a-4432-8b55-777cf4defb46",
   "metadata": {},
   "outputs": [],
   "source": [
    "model.compile(loss='binary_crossentropy', optimizer='adam', metrics=['accuracy'])\n"
   ]
  },
  {
   "cell_type": "code",
   "execution_count": null,
   "id": "53ec0dde-e6ea-4803-8fd2-714c6cd8aac2",
   "metadata": {},
   "outputs": [
    {
     "data": {
      "text/plain": [
       "[<matplotlib.lines.Line2D at 0x22e7148f9b0>]"
      ]
     },
     "execution_count": 80,
     "metadata": {},
     "output_type": "execute_result"
    },
    {
     "data": {
      "image/png": "[encoded data removed]",
      "text/plain": [
       "<Figure size 640x480 with 1 Axes>"
      ]
     },
     "metadata": {},
     "output_type": "display_data"
    }
   ],
   "source": [
    "plt.plot(history.history['accuracy'])\n",
    "plt.plot(history.history['val_accuracy'])\n"
   ]
  },
  {
   "cell_type": "code",
   "execution_count": null,
   "id": "42a89c3c-250e-4780-973a-4c9a8d381eec",
   "metadata": {},
   "outputs": [
    {
     "name": "stdout",
     "output_type": "stream",
     "text": [
      "dict_keys(['accuracy', 'loss', 'val_accuracy', 'val_loss'])\n"
     ]
    }
   ],
   "source": [
    "print(history.history.keys())\n"
   ]
  },
  {
   "cell_type": "code",
   "execution_count": null,
   "id": "7863aa8e-510b-4e5c-93ba-a99b5609953b",
   "metadata": {},
   "outputs": [
    {
     "data": {
      "image/png": "[encoded data removed]",
      "text/plain": [
       "<Figure size 640x480 with 2 Axes>"
      ]
     },
     "metadata": {},
     "output_type": "display_data"
    }
   ],
   "source": [
    "from sklearn.metrics import confusion_matrix, ConfusionMatrixDisplay\n",
    "\n",
    "# Compute confusion matrix\n",
    "cm = confusion_matrix(y_test, y_pred)\n",
    "\n",
    "# Display confusion matrix\n",
    "disp = ConfusionMatrixDisplay(confusion_matrix=cm)\n",
    "disp.plot()\n",
    "plt.title('Confusion Matrix')\n",
    "plt.show()\n"
   ]
  },
  {
   "cell_type": "code",
   "execution_count": null,
   "id": "b9e4ff80-ea28-4702-b725-5edfc1a96c49",
   "metadata": {},
   "outputs": [
    {
     "name": "stdout",
     "output_type": "stream",
     "text": [
      "\u001b[1m646/646\u001b[0m \u001b[32m━━━━━━━━━━━━━━━━━━━━\u001b[0m\u001b[37m\u001b[0m \u001b[1m100s\u001b[0m 154ms/step\n"
     ]
    },
    {
     "data": {
      "image/png": "[encoded data removed]",
      "text/plain": [
       "<Figure size 640x480 with 1 Axes>"
      ]
     },
     "metadata": {},
     "output_type": "display_data"
    }
   ],
   "source": [
    "from sklearn.metrics import roc_curve, auc\n",
    "\n",
    "# Compute predicted probabilities using model.predict() in Keras/TensorFlow\n",
    "y_proba = model.predict(X_test_scaled)\n",
    "\n",
    "# Compute ROC curve\n",
    "fpr, tpr, thresholds = roc_curve(y_test, y_proba)\n",
    "roc_auc = auc(fpr, tpr)\n",
    "\n",
    "# Plot ROC curve\n",
    "plt.figure()\n",
    "plt.plot(fpr, tpr, color='darkorange', lw=2, label='ROC curve (area = %0.2f)' % roc_auc)\n",
    "plt.plot([0, 1], [0, 1], color='navy', lw=2, linestyle='--')\n",
    "plt.xlim([0.0, 1.0])\n",
    "plt.ylim([0.0, 1.05])\n",
    "plt.xlabel('False Positive Rate')\n",
    "plt.ylabel('True Positive Rate')\n",
    "plt.title('Receiver Operating Characteristic (ROC)')\n",
    "plt.legend(loc=\"lower right\")\n",
    "plt.show()\n"
   ]
  },
  {
   "cell_type": "code",
   "execution_count": null,
   "id": "b0c940f3-4e9a-4e76-a7c9-8b4176d810a1",
   "metadata": {},
   "outputs": [],
   "source": [
    "%matplotlib inline\n"
   ]
  },
  {
   "cell_type": "code",
   "execution_count": null,
   "id": "7eca7ad3-2bcd-48b4-a6c0-3d4ad49d3409",
   "metadata": {},
   "outputs": [],
   "source": []
  }
 ],
 "metadata": {
  "kernelspec": {
   "display_name": "Python 3",
   "language": "python",
   "name": "python3"
  },
  "language_info": {
   "codemirror_mode": {
    "name": "ipython",
    "version": 3
   },
   "file_extension": ".py",
   "mimetype": "text/x-python",
   "name": "python",
   "nbconvert_exporter": "python",
   "pygments_lexer": "ipython3",
   "version": "3.13.0"
  }
 },
 "nbformat": 4,
 "nbformat_minor": 5
}
